{
  "nbformat": 4,
  "nbformat_minor": 0,
  "metadata": {
    "colab": {
      "provenance": [],
      "authorship_tag": "ABX9TyOfjb4zDc73IqRPwkZBQqhT",
      "include_colab_link": true
    },
    "kernelspec": {
      "name": "python3",
      "display_name": "Python 3"
    },
    "language_info": {
      "name": "python"
    }
  },
  "cells": [
    {
      "cell_type": "markdown",
      "metadata": {
        "id": "view-in-github",
        "colab_type": "text"
      },
      "source": [
        "<a href=\"https://colab.research.google.com/github/IvanKatorgin/Miscellaneous/blob/main/%D0%98%D0%B3%D1%80%D0%B0_%D0%9A%D0%B0%D0%BC%D0%B5%D0%BD%D1%8C_%D0%BD%D0%B0%D0%B6%D0%BD%D0%B8%D1%86%D1%8B_%D0%B1%D1%83%D0%BC%D0%B0%D0%B3%D0%B0.ipynb\" target=\"_parent\"><img src=\"https://colab.research.google.com/assets/colab-badge.svg\" alt=\"Open In Colab\"/></a>"
      ]
    },
    {
      "cell_type": "code",
      "source": [
        "counter_int=0"
      ],
      "metadata": {
        "id": "OdI_1431KQPx"
      },
      "execution_count": null,
      "outputs": []
    },
    {
      "cell_type": "code",
      "source": [
        "# выбор пользователя"
      ],
      "metadata": {
        "id": "LzGb1Nn_FVA1"
      },
      "execution_count": null,
      "outputs": []
    },
    {
      "cell_type": "code",
      "execution_count": null,
      "metadata": {
        "colab": {
          "base_uri": "https://localhost:8080/"
        },
        "id": "MMgAJvhGDHr-",
        "outputId": "620ac492-9a99-41f4-8dc9-378b52f4297c"
      },
      "outputs": [
        {
          "output_type": "stream",
          "name": "stdout",
          "text": [
            "Введите свой выбор(камень, ножницы, бумага)бумага\n",
            "-------------\n",
            "бумага\n"
          ]
        }
      ],
      "source": [
        "our_choice_str=input(\"Введите свой выбор(камень, ножницы, бумага)\")\n",
        "print(\"-------------\")\n",
        "print(our_choice_str)"
      ]
    },
    {
      "cell_type": "code",
      "source": [
        "# выбор компьютера"
      ],
      "metadata": {
        "id": "sX6iwAR7FSj8"
      },
      "execution_count": null,
      "outputs": []
    },
    {
      "cell_type": "code",
      "source": [
        "import random\n",
        "pc_choice_str=random.choice([\"камень\",\"ножницы\",\"бумага\"])\n",
        "print(\"-------------\")\n",
        "print(pc_choice_str)"
      ],
      "metadata": {
        "colab": {
          "base_uri": "https://localhost:8080/"
        },
        "id": "2cVmFZ4REsFg",
        "outputId": "d97c5711-16bc-4b98-b76c-382c23fae6fc"
      },
      "execution_count": null,
      "outputs": [
        {
          "output_type": "stream",
          "name": "stdout",
          "text": [
            "-------------\n",
            "камень\n"
          ]
        }
      ]
    },
    {
      "cell_type": "code",
      "source": [
        "# определить победителя"
      ],
      "metadata": {
        "id": "_bZ0YN56FYlD"
      },
      "execution_count": null,
      "outputs": []
    },
    {
      "cell_type": "code",
      "source": [
        "if pc_choice_str==\"камень\" and our_choice_str==\"ножницы\": print (\"Победил компьютер\")\n",
        "elif pc_choice_str==\"камень\" and our_choice_str==\"бумага\": print (\"Победил пользователь\")\n",
        "elif pc_choice_str==\"камень\" and our_choice_str==\"камень\": print (\"Ничья\")\n",
        "elif pc_choice_str==\"ножницы\" and our_choice_str==\"бумага\": print (\"Победил компьютер\")\n",
        "elif pc_choice_str==\"ножницы\" and our_choice_str==\"камень\": print (\"Победил пользователь\")\n",
        "elif pc_choice_str==\"ножницы\" and our_choice_str==\"ножницы\": print (\"Ничья\")\n",
        "elif pc_choice_str==\"бумага\" and our_choice_str==\"камень\": print (\"Победил компьютер\")\n",
        "elif pc_choice_str==\"бумага\" and our_choice_str==\"ножницы\": print (\"Победил пользователь\")\n",
        "elif pc_choice_str==\"бумага\" and our_choice_str==\"бумага\": print (\"Ничья\")\n",
        "else: print(\"Я еще не умею определять такой исход\")\n"
      ],
      "metadata": {
        "colab": {
          "base_uri": "https://localhost:8080/"
        },
        "id": "uvYXCMJIFbqW",
        "outputId": "6e6fd549-5960-4598-d85d-022a07d76c2a"
      },
      "execution_count": null,
      "outputs": [
        {
          "output_type": "stream",
          "name": "stdout",
          "text": [
            "Победил пользователь\n"
          ]
        }
      ]
    },
    {
      "cell_type": "code",
      "source": [
        "counter_int=counter_int+1"
      ],
      "metadata": {
        "id": "KT4O28C0KVYB"
      },
      "execution_count": null,
      "outputs": []
    },
    {
      "cell_type": "code",
      "source": [
        "print(counter_int)"
      ],
      "metadata": {
        "colab": {
          "base_uri": "https://localhost:8080/"
        },
        "id": "2R0d-XMBLc5C",
        "outputId": "2ce1d28e-51ee-4628-ad82-f7da7d339a22"
      },
      "execution_count": null,
      "outputs": [
        {
          "output_type": "stream",
          "name": "stdout",
          "text": [
            "2\n"
          ]
        }
      ]
    }
  ]
}